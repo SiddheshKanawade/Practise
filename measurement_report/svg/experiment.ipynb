{
 "cells": [
  {
   "cell_type": "code",
   "execution_count": 1,
   "metadata": {},
   "outputs": [
    {
     "name": "stdout",
     "output_type": "stream",
     "text": [
      "Collecting svgutils\n",
      "  Downloading svgutils-0.3.4-py3-none-any.whl (10 kB)\n",
      "Collecting lxml (from svgutils)\n",
      "  Downloading lxml-5.0.0.zip (4.1 MB)\n",
      "\u001b[2K     \u001b[90m━━━━━━━━━━━━━━━━━━━━━━━━━━━━━━━━━━━━━━━━\u001b[0m \u001b[32m4.1/4.1 MB\u001b[0m \u001b[31m3.1 MB/s\u001b[0m eta \u001b[36m0:00:00\u001b[0ma \u001b[36m0:00:01\u001b[0m0m\n",
      "\u001b[?25h  Preparing metadata (setup.py) ... \u001b[?25ldone\n",
      "\u001b[?25hBuilding wheels for collected packages: lxml\n",
      "  Building wheel for lxml (setup.py) ... \u001b[?25ldone\n",
      "\u001b[?25h  Created wheel for lxml: filename=lxml-5.0.0-cp39-cp39-macosx_11_0_arm64.whl size=1505460 sha256=eaafff0cfceb81738cb764e0e89c51f04b786b17d97425273f3cf5971f27bb54\n",
      "  Stored in directory: /Users/siddheshkanawade/Library/Caches/pip/wheels/b3/f3/c8/7d32062bb4d205cfc564ff338613b965f852cfb428224a1e96\n",
      "Successfully built lxml\n",
      "Installing collected packages: lxml, svgutils\n",
      "Successfully installed lxml-5.0.0 svgutils-0.3.4\n",
      "Note: you may need to restart the kernel to use updated packages.\n"
     ]
    }
   ],
   "source": [
    "%pip install svgutils"
   ]
  },
  {
   "cell_type": "code",
   "execution_count": 4,
   "metadata": {},
   "outputs": [],
   "source": [
    "# Open the SVG file and read its contents\n",
    "with open('./A4 - Cover Page.svg', 'r') as file:\n",
    "    data = file.read()\n",
    "\n",
    "# print(data)\n",
    "\n",
    "# Replace placeholders with your variables\n",
    "data = data.replace('ROOFER NAME', 'Updated Roofer name')\n",
    "# data = data.replace('placeholder2', 'value2')\n",
    "# Add more replacements as needed...\n",
    "\n",
    "# Save the updated contents back to the SVG file\n",
    "with open('yourfile.svg', 'w') as file:\n",
    "    file.write(data)\n"
   ]
  },
  {
   "cell_type": "code",
   "execution_count": null,
   "metadata": {},
   "outputs": [],
   "source": []
  }
 ],
 "metadata": {
  "kernelspec": {
   "display_name": "practise",
   "language": "python",
   "name": "python3"
  },
  "language_info": {
   "codemirror_mode": {
    "name": "ipython",
    "version": 3
   },
   "file_extension": ".py",
   "mimetype": "text/x-python",
   "name": "python",
   "nbconvert_exporter": "python",
   "pygments_lexer": "ipython3",
   "version": "3.9.18"
  }
 },
 "nbformat": 4,
 "nbformat_minor": 2
}
